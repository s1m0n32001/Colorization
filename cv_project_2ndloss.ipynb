{
  "nbformat": 4,
  "nbformat_minor": 0,
  "metadata": {
    "colab": {
      "provenance": [],
      "gpuType": "T4",
      "collapsed_sections": [
        "yHwDZBBc-TLH"
      ]
    },
    "kernelspec": {
      "name": "python3",
      "display_name": "Python 3"
    },
    "language_info": {
      "name": "python"
    },
    "accelerator": "GPU"
  },
  "cells": [
    {
      "cell_type": "markdown",
      "source": [
        "# Image colorization using CNN\n",
        "\n",
        "Cose da fare:\n",
        "\n",
        "\n",
        "Extra\n",
        " - Cercare un dataset con risoluzione un po' più alta?\n",
        " - Implementare sia la loss function base (MSE) che quella \"speciale\" del paper\n",
        "\n",
        "\n",
        " Che rete usiamo?\n",
        "  - Resnet: funziona ma è uguale identica a quella su github, meglio cambiarla?\n",
        "  - VGG16: troppo lenta, il training impiega quasi 40 min per un'epoca\n",
        "\n"
      ],
      "metadata": {
        "id": "bhF7c6FetF5k"
      }
    },
    {
      "cell_type": "code",
      "source": [
        "! pip install kornia #Library to convert from RGB to LAB"
      ],
      "metadata": {
        "id": "UOXelm1TxSkk",
        "outputId": "4a8ea24b-da66-4606-bab7-79efae966a7d",
        "colab": {
          "base_uri": "https://localhost:8080/"
        }
      },
      "execution_count": null,
      "outputs": [
        {
          "output_type": "stream",
          "name": "stdout",
          "text": [
            "Requirement already satisfied: kornia in /usr/local/lib/python3.10/dist-packages (0.7.1)\n",
            "Requirement already satisfied: packaging in /usr/local/lib/python3.10/dist-packages (from kornia) (23.2)\n",
            "Requirement already satisfied: torch>=1.9.1 in /usr/local/lib/python3.10/dist-packages (from kornia) (2.1.0+cu121)\n",
            "Requirement already satisfied: filelock in /usr/local/lib/python3.10/dist-packages (from torch>=1.9.1->kornia) (3.13.1)\n",
            "Requirement already satisfied: typing-extensions in /usr/local/lib/python3.10/dist-packages (from torch>=1.9.1->kornia) (4.5.0)\n",
            "Requirement already satisfied: sympy in /usr/local/lib/python3.10/dist-packages (from torch>=1.9.1->kornia) (1.12)\n",
            "Requirement already satisfied: networkx in /usr/local/lib/python3.10/dist-packages (from torch>=1.9.1->kornia) (3.2.1)\n",
            "Requirement already satisfied: jinja2 in /usr/local/lib/python3.10/dist-packages (from torch>=1.9.1->kornia) (3.1.3)\n",
            "Requirement already satisfied: fsspec in /usr/local/lib/python3.10/dist-packages (from torch>=1.9.1->kornia) (2023.6.0)\n",
            "Requirement already satisfied: triton==2.1.0 in /usr/local/lib/python3.10/dist-packages (from torch>=1.9.1->kornia) (2.1.0)\n",
            "Requirement already satisfied: MarkupSafe>=2.0 in /usr/local/lib/python3.10/dist-packages (from jinja2->torch>=1.9.1->kornia) (2.1.4)\n",
            "Requirement already satisfied: mpmath>=0.19 in /usr/local/lib/python3.10/dist-packages (from sympy->torch>=1.9.1->kornia) (1.3.0)\n"
          ]
        }
      ]
    },
    {
      "cell_type": "code",
      "execution_count": null,
      "metadata": {
        "id": "gJUv1ql-3P3r"
      },
      "outputs": [],
      "source": [
        "import torch\n",
        "import torch.nn as nn\n",
        "import numpy as np\n",
        "import pandas as pd\n",
        "import matplotlib.pyplot as plt\n",
        "import scipy\n",
        "import kornia\n",
        "import pickle\n",
        "from statistics import mean\n",
        "\n",
        "\n",
        "from torchvision.datasets import CIFAR10\n",
        "from torch.utils.data import DataLoader, random_split\n",
        "from torchvision import transforms, models\n",
        "import torch.utils.data as data_utils\n"
      ]
    },
    {
      "cell_type": "code",
      "source": [
        "from skimage.color import rgb2lab"
      ],
      "metadata": {
        "id": "JA8SP46rnYlj"
      },
      "execution_count": null,
      "outputs": []
    },
    {
      "cell_type": "code",
      "source": [
        "if torch.cuda.is_available():\n",
        "  device = torch.device(\"cuda\") #to use gpu"
      ],
      "metadata": {
        "id": "ZM2EQKIBVknO"
      },
      "execution_count": null,
      "outputs": []
    },
    {
      "cell_type": "markdown",
      "source": [
        "# Import and preprocess dataset (CIFAR10)\n",
        "In this section, we import the dataset and process it properly. We discard the labels (we don't care about them since our goal is colorization, not classification) and set up a new dataset whose features are the L channel and whose labels are the AB channels. We then set up a Dataloader to process the data in batches.\n"
      ],
      "metadata": {
        "id": "G8spMWtL37SO"
      }
    },
    {
      "cell_type": "code",
      "source": [
        "from google.colab import drive\n",
        "drive.mount('/content/gdrive')"
      ],
      "metadata": {
        "colab": {
          "base_uri": "https://localhost:8080/"
        },
        "id": "587S8fC6ZcuQ",
        "outputId": "ed17ddb2-4937-4f6d-bab7-d4e624cc7389"
      },
      "execution_count": null,
      "outputs": [
        {
          "output_type": "stream",
          "name": "stdout",
          "text": [
            "Drive already mounted at /content/gdrive; to attempt to forcibly remount, call drive.mount(\"/content/gdrive\", force_remount=True).\n"
          ]
        }
      ]
    },
    {
      "cell_type": "code",
      "source": [
        "#Transform to LAB and separate the L and (a,b) channels\n",
        "class RGB_to_LAB:\n",
        "  def __call__(self, sample):\n",
        "    # tensor = kornia.color.rgb_to_lab(sample) # 3 x 32 x 32\n",
        "    tensor = rgb2lab(sample.numpy(), channel_axis=0) # 3 x 32 x 32\n",
        "    tensor = torch.tensor(tensor)\n",
        "    l = tensor[0, : , :]\n",
        "    bw = torch.empty([3, 32, 32])\n",
        "    bw[0, : , :] = l\n",
        "    bw[1, : , :] = l\n",
        "    bw[2, : , :] = 1\n",
        "    return bw, tensor[1:, :, :]\n",
        "\n",
        "#Function to switch back to rgb\n",
        "def LAB_to_RGB(l_tensor, ab_tensor):\n",
        "  tensor = torch.cat([torch.unsqueeze(l_tensor,0), ab_tensor], dim = 0)\n",
        "  tensor = kornia.color.lab_to_rgb(tensor)\n",
        "  return tensor\n",
        "\n",
        "transform_rgb_lab = RGB_to_LAB()\n",
        "composed = transforms.Compose([transforms.ToTensor(), transform_rgb_lab])\n",
        "# composed = transforms.Compose([transforms.ToTensor()])"
      ],
      "metadata": {
        "id": "YW27cPTCvbJQ"
      },
      "execution_count": null,
      "outputs": []
    },
    {
      "cell_type": "code",
      "source": [
        "#Load dataset --> set download = True if it's the first time you're opening it\n",
        "dataset = CIFAR10(root = \"/content/gdrive/My Drive/CIFAR10\", download = False,\n",
        "                  transform = composed, train = True)"
      ],
      "metadata": {
        "id": "boJxDqZA3_Nm"
      },
      "execution_count": null,
      "outputs": []
    },
    {
      "cell_type": "code",
      "source": [
        "#Remove labels from dataset\n",
        "def discard_labels(data):\n",
        "  return([datum[0] for datum in data])\n",
        "\n",
        "dataset = discard_labels(dataset)"
      ],
      "metadata": {
        "id": "mT4A2Pt3wIZQ"
      },
      "execution_count": null,
      "outputs": []
    },
    {
      "cell_type": "code",
      "source": [
        "#Separate the l and ab channels and store them as tensor\n",
        "\n",
        "# dato = (l, ab)\n",
        "def select_l(data):\n",
        "  return([datum[0] for datum in data])\n",
        "def select_ab(data):\n",
        "  return([datum[1] for datum in data])\n",
        "\n",
        "dataset_l =  select_l(dataset)\n",
        "dataset_ab = select_ab(dataset)\n",
        "\n",
        "#Convert to tensor form --> represents the features as one tensor 4D [index, 3, 32, 32]\n",
        "dataset_l  = torch.cat([torch.unsqueeze(tens, 0) for tens in dataset_l])\n",
        "dataset_ab = torch.cat([torch.unsqueeze(tens, 0) for tens in dataset_ab])"
      ],
      "metadata": {
        "id": "0-fSiYYTzFoP"
      },
      "execution_count": null,
      "outputs": []
    },
    {
      "cell_type": "markdown",
      "source": [
        "## Distribution of (a,b)"
      ],
      "metadata": {
        "id": "u41ryQuB2KLw"
      }
    },
    {
      "cell_type": "code",
      "source": [
        "x = dataset_ab[:,0,:,:].reshape(1,-1)\n",
        "x = torch.squeeze(x)"
      ],
      "metadata": {
        "id": "pbNsiktDypS-"
      },
      "execution_count": null,
      "outputs": []
    },
    {
      "cell_type": "code",
      "source": [
        "a = dataset_ab[:,0,:,:].reshape(1,-1)\n",
        "a = torch.squeeze(a).numpy()\n",
        "b = dataset_ab[:,1,:,:].reshape(1,-1)\n",
        "b = torch.squeeze(b).numpy()\n",
        "\n",
        "# Define the limits for the x and y axes\n",
        "x_min, x_max = -110, 110\n",
        "y_min, y_max = -110, 110\n",
        "\n",
        "# Compute 2D histogram\n",
        "hist, xedges, yedges = np.histogram2d(a, b, bins=22, range=[[x_min, x_max], [y_min, y_max]])\n",
        "\n",
        "print(xedges)\n",
        "\n",
        "print(len(x), '\\n')\n",
        "print(np.sum(hist), '\\n')\n",
        "print('Diff: ', len(x) - np.sum(hist))\n",
        "\n",
        "hist_log = np.log((hist/np.sum(hist)))\n",
        "\n",
        "# Plot the histogram in logarithmic scale\n",
        "plt.imshow(hist_log, interpolation='nearest', extent=[x_min, x_max, y_max, y_min], origin='lower', aspect='auto')\n",
        "plt.colorbar()\n",
        "plt.xlabel('b')\n",
        "plt.ylabel('a')\n",
        "plt.title('Log(P(a,b))')\n",
        "plt.show()"
      ],
      "metadata": {
        "colab": {
          "base_uri": "https://localhost:8080/",
          "height": 628
        },
        "id": "NkLlJCsSx2fw",
        "outputId": "5f02eefe-f223-4f12-f3d8-8bf8b98eb3c2"
      },
      "execution_count": null,
      "outputs": [
        {
          "output_type": "stream",
          "name": "stdout",
          "text": [
            "[-110. -100.  -90.  -80.  -70.  -60.  -50.  -40.  -30.  -20.  -10.    0.\n",
            "   10.   20.   30.   40.   50.   60.   70.   80.   90.  100.  110.]\n",
            "51200000 \n",
            "\n",
            "51200000.0 \n",
            "\n",
            "Diff:  0.0\n"
          ]
        },
        {
          "output_type": "stream",
          "name": "stderr",
          "text": [
            "<ipython-input-11-58f412531f82>:19: RuntimeWarning: divide by zero encountered in log\n",
            "  hist_log = np.log((hist/np.sum(hist)))\n"
          ]
        },
        {
          "output_type": "display_data",
          "data": {
            "text/plain": [
              "<Figure size 640x480 with 2 Axes>"
            ],
            "image/png": "[encoded data removed]"
          },
          "metadata": {}
        }
      ]
    },
    {
      "cell_type": "markdown",
      "source": [
        "We now want to map each upperleft corner of a nonzero bin to its bin number"
      ],
      "metadata": {
        "id": "FKy2W-bdpl-7"
      }
    },
    {
      "cell_type": "code",
      "source": [
        "Q = np.sum(np.isfinite(hist_log))\n",
        "print(\"With our dataset we get Q = \", Q)"
      ],
      "metadata": {
        "colab": {
          "base_uri": "https://localhost:8080/"
        },
        "id": "Fm1hE-1jx2dK",
        "outputId": "c5b5e33e-817c-4f32-a878-0bf9c5868a8f"
      },
      "execution_count": null,
      "outputs": [
        {
          "output_type": "stream",
          "name": "stdout",
          "text": [
            "With our dataset we get Q =  246\n"
          ]
        }
      ]
    },
    {
      "cell_type": "code",
      "source": [
        "hist_obj = plt.hist2d(a, b, bins=22, range=[[x_min, x_max], [y_min, y_max]])"
      ],
      "metadata": {
        "colab": {
          "base_uri": "https://localhost:8080/",
          "height": 430
        },
        "id": "LlPG_HCt6qyA",
        "outputId": "18d1a6f5-5b35-4ce6-a969-1c345801eacf"
      },
      "execution_count": null,
      "outputs": [
        {
          "output_type": "display_data",
          "data": {
            "text/plain": [
              "<Figure size 640x480 with 1 Axes>"
            ],
            "image/png": "[encoded data removed]"
          },
          "metadata": {}
        }
      ]
    },
    {
      "cell_type": "code",
      "source": [
        "#Keep track of where the grid points are\n",
        "positions = []\n",
        "indeces = []\n",
        "\n",
        "index = 0\n",
        "\n",
        "for i in range(len(hist_obj[1][:-1])):\n",
        "  for j in range(len(hist_obj[2][:-1])):\n",
        "    if hist_obj[0][i, j] > 0:\n",
        "      positions.append((i,j))\n",
        "      indeces.append(index)\n",
        "      index += 1\n",
        "\n",
        "dictionary = dict(zip(positions, indeces))"
      ],
      "metadata": {
        "id": "KHu3lStZ-ZMc"
      },
      "execution_count": null,
      "outputs": []
    },
    {
      "cell_type": "markdown",
      "source": [
        "## Store new dataset"
      ],
      "metadata": {
        "id": "yHwDZBBc-TLH"
      }
    },
    {
      "cell_type": "code",
      "source": [
        "#Create ground truth Z_label\n",
        "\n",
        "output_tensor = torch.zeros(50000, 1, 32, 32)\n",
        "\n",
        "for image_number in range(dataset_ab.shape[0]):\n",
        "  if image_number % 100 == 0:\n",
        "    print(\"Image_nUmber : \", image_number)\n",
        "  Z_image = np.zeros([1, 32, 32])\n",
        "  image = dataset_ab[image_number, :, :, :]\n",
        "  for i in range(32):\n",
        "    for j in range(32):\n",
        "      couple = tuple(torch.Tensor.tolist(torch.Tensor.int(image[:, i,j] // 10 + 11)))\n",
        "      index = dictionary[couple]\n",
        "      Z_image[0, i, j] = index\n",
        "  output_tensor[image_number, :, :, :] = torch.tensor(Z_image)"
      ],
      "metadata": {
        "colab": {
          "base_uri": "https://localhost:8080/"
        },
        "id": "Qu_xV1pUwlBa",
        "outputId": "b2f9b11f-1979-4886-dedd-6c4f0d6089bc"
      },
      "execution_count": null,
      "outputs": [
        {
          "output_type": "stream",
          "name": "stdout",
          "text": [
            "Image_nUmber :  0\n",
            "Image_nUmber :  100\n",
            "Image_nUmber :  200\n",
            "Image_nUmber :  300\n",
            "Image_nUmber :  400\n",
            "Image_nUmber :  500\n",
            "Image_nUmber :  600\n",
            "Image_nUmber :  700\n",
            "Image_nUmber :  800\n",
            "Image_nUmber :  900\n",
            "Image_nUmber :  1000\n",
            "Image_nUmber :  1100\n",
            "Image_nUmber :  1200\n",
            "Image_nUmber :  1300\n",
            "Image_nUmber :  1400\n",
            "Image_nUmber :  1500\n",
            "Image_nUmber :  1600\n",
            "Image_nUmber :  1700\n",
            "Image_nUmber :  1800\n",
            "Image_nUmber :  1900\n",
            "Image_nUmber :  2000\n",
            "Image_nUmber :  2100\n",
            "Image_nUmber :  2200\n",
            "Image_nUmber :  2300\n",
            "Image_nUmber :  2400\n",
            "Image_nUmber :  2500\n",
            "Image_nUmber :  2600\n",
            "Image_nUmber :  2700\n",
            "Image_nUmber :  2800\n",
            "Image_nUmber :  2900\n",
            "Image_nUmber :  3000\n",
            "Image_nUmber :  3100\n",
            "Image_nUmber :  3200\n",
            "Image_nUmber :  3300\n",
            "Image_nUmber :  3400\n",
            "Image_nUmber :  3500\n",
            "Image_nUmber :  3600\n",
            "Image_nUmber :  3700\n",
            "Image_nUmber :  3800\n",
            "Image_nUmber :  3900\n",
            "Image_nUmber :  4000\n",
            "Image_nUmber :  4100\n",
            "Image_nUmber :  4200\n",
            "Image_nUmber :  4300\n",
            "Image_nUmber :  4400\n",
            "Image_nUmber :  4500\n",
            "Image_nUmber :  4600\n",
            "Image_nUmber :  4700\n",
            "Image_nUmber :  4800\n",
            "Image_nUmber :  4900\n",
            "Image_nUmber :  5000\n",
            "Image_nUmber :  5100\n",
            "Image_nUmber :  5200\n",
            "Image_nUmber :  5300\n",
            "Image_nUmber :  5400\n",
            "Image_nUmber :  5500\n",
            "Image_nUmber :  5600\n",
            "Image_nUmber :  5700\n",
            "Image_nUmber :  5800\n",
            "Image_nUmber :  5900\n",
            "Image_nUmber :  6000\n",
            "Image_nUmber :  6100\n",
            "Image_nUmber :  6200\n",
            "Image_nUmber :  6300\n",
            "Image_nUmber :  6400\n",
            "Image_nUmber :  6500\n",
            "Image_nUmber :  6600\n",
            "Image_nUmber :  6700\n",
            "Image_nUmber :  6800\n",
            "Image_nUmber :  6900\n",
            "Image_nUmber :  7000\n",
            "Image_nUmber :  7100\n",
            "Image_nUmber :  7200\n",
            "Image_nUmber :  7300\n",
            "Image_nUmber :  7400\n",
            "Image_nUmber :  7500\n",
            "Image_nUmber :  7600\n",
            "Image_nUmber :  7700\n",
            "Image_nUmber :  7800\n",
            "Image_nUmber :  7900\n",
            "Image_nUmber :  8000\n",
            "Image_nUmber :  8100\n",
            "Image_nUmber :  8200\n",
            "Image_nUmber :  8300\n",
            "Image_nUmber :  8400\n",
            "Image_nUmber :  8500\n",
            "Image_nUmber :  8600\n",
            "Image_nUmber :  8700\n",
            "Image_nUmber :  8800\n",
            "Image_nUmber :  8900\n",
            "Image_nUmber :  9000\n",
            "Image_nUmber :  9100\n",
            "Image_nUmber :  9200\n",
            "Image_nUmber :  9300\n",
            "Image_nUmber :  9400\n",
            "Image_nUmber :  9500\n",
            "Image_nUmber :  9600\n",
            "Image_nUmber :  9700\n",
            "Image_nUmber :  9800\n",
            "Image_nUmber :  9900\n",
            "Image_nUmber :  10000\n",
            "Image_nUmber :  10100\n",
            "Image_nUmber :  10200\n",
            "Image_nUmber :  10300\n",
            "Image_nUmber :  10400\n",
            "Image_nUmber :  10500\n",
            "Image_nUmber :  10600\n",
            "Image_nUmber :  10700\n",
            "Image_nUmber :  10800\n",
            "Image_nUmber :  10900\n",
            "Image_nUmber :  11000\n",
            "Image_nUmber :  11100\n",
            "Image_nUmber :  11200\n",
            "Image_nUmber :  11300\n",
            "Image_nUmber :  11400\n",
            "Image_nUmber :  11500\n",
            "Image_nUmber :  11600\n",
            "Image_nUmber :  11700\n",
            "Image_nUmber :  11800\n",
            "Image_nUmber :  11900\n",
            "Image_nUmber :  12000\n",
            "Image_nUmber :  12100\n",
            "Image_nUmber :  12200\n",
            "Image_nUmber :  12300\n",
            "Image_nUmber :  12400\n",
            "Image_nUmber :  12500\n",
            "Image_nUmber :  12600\n",
            "Image_nUmber :  12700\n",
            "Image_nUmber :  12800\n",
            "Image_nUmber :  12900\n",
            "Image_nUmber :  13000\n",
            "Image_nUmber :  13100\n",
            "Image_nUmber :  13200\n",
            "Image_nUmber :  13300\n",
            "Image_nUmber :  13400\n",
            "Image_nUmber :  13500\n",
            "Image_nUmber :  13600\n",
            "Image_nUmber :  13700\n",
            "Image_nUmber :  13800\n",
            "Image_nUmber :  13900\n",
            "Image_nUmber :  14000\n",
            "Image_nUmber :  14100\n",
            "Image_nUmber :  14200\n",
            "Image_nUmber :  14300\n",
            "Image_nUmber :  14400\n",
            "Image_nUmber :  14500\n",
            "Image_nUmber :  14600\n",
            "Image_nUmber :  14700\n",
            "Image_nUmber :  14800\n",
            "Image_nUmber :  14900\n",
            "Image_nUmber :  15000\n",
            "Image_nUmber :  15100\n",
            "Image_nUmber :  15200\n",
            "Image_nUmber :  15300\n",
            "Image_nUmber :  15400\n",
            "Image_nUmber :  15500\n",
            "Image_nUmber :  15600\n",
            "Image_nUmber :  15700\n",
            "Image_nUmber :  15800\n",
            "Image_nUmber :  15900\n",
            "Image_nUmber :  16000\n",
            "Image_nUmber :  16100\n",
            "Image_nUmber :  16200\n",
            "Image_nUmber :  16300\n",
            "Image_nUmber :  16400\n",
            "Image_nUmber :  16500\n",
            "Image_nUmber :  16600\n",
            "Image_nUmber :  16700\n",
            "Image_nUmber :  16800\n",
            "Image_nUmber :  16900\n",
            "Image_nUmber :  17000\n",
            "Image_nUmber :  17100\n",
            "Image_nUmber :  17200\n",
            "Image_nUmber :  17300\n",
            "Image_nUmber :  17400\n",
            "Image_nUmber :  17500\n",
            "Image_nUmber :  17600\n",
            "Image_nUmber :  17700\n",
            "Image_nUmber :  17800\n",
            "Image_nUmber :  17900\n",
            "Image_nUmber :  18000\n",
            "Image_nUmber :  18100\n",
            "Image_nUmber :  18200\n",
            "Image_nUmber :  18300\n",
            "Image_nUmber :  18400\n",
            "Image_nUmber :  18500\n",
            "Image_nUmber :  18600\n",
            "Image_nUmber :  18700\n",
            "Image_nUmber :  18800\n",
            "Image_nUmber :  18900\n",
            "Image_nUmber :  19000\n",
            "Image_nUmber :  19100\n",
            "Image_nUmber :  19200\n",
            "Image_nUmber :  19300\n",
            "Image_nUmber :  19400\n",
            "Image_nUmber :  19500\n",
            "Image_nUmber :  19600\n",
            "Image_nUmber :  19700\n",
            "Image_nUmber :  19800\n",
            "Image_nUmber :  19900\n",
            "Image_nUmber :  20000\n",
            "Image_nUmber :  20100\n",
            "Image_nUmber :  20200\n",
            "Image_nUmber :  20300\n",
            "Image_nUmber :  20400\n",
            "Image_nUmber :  20500\n",
            "Image_nUmber :  20600\n",
            "Image_nUmber :  20700\n",
            "Image_nUmber :  20800\n",
            "Image_nUmber :  20900\n",
            "Image_nUmber :  21000\n",
            "Image_nUmber :  21100\n",
            "Image_nUmber :  21200\n",
            "Image_nUmber :  21300\n",
            "Image_nUmber :  21400\n",
            "Image_nUmber :  21500\n",
            "Image_nUmber :  21600\n",
            "Image_nUmber :  21700\n",
            "Image_nUmber :  21800\n",
            "Image_nUmber :  21900\n",
            "Image_nUmber :  22000\n",
            "Image_nUmber :  22100\n",
            "Image_nUmber :  22200\n",
            "Image_nUmber :  22300\n",
            "Image_nUmber :  22400\n",
            "Image_nUmber :  22500\n",
            "Image_nUmber :  22600\n",
            "Image_nUmber :  22700\n",
            "Image_nUmber :  22800\n",
            "Image_nUmber :  22900\n",
            "Image_nUmber :  23000\n",
            "Image_nUmber :  23100\n",
            "Image_nUmber :  23200\n",
            "Image_nUmber :  23300\n",
            "Image_nUmber :  23400\n",
            "Image_nUmber :  23500\n",
            "Image_nUmber :  23600\n",
            "Image_nUmber :  23700\n",
            "Image_nUmber :  23800\n",
            "Image_nUmber :  23900\n",
            "Image_nUmber :  24000\n",
            "Image_nUmber :  24100\n",
            "Image_nUmber :  24200\n",
            "Image_nUmber :  24300\n",
            "Image_nUmber :  24400\n",
            "Image_nUmber :  24500\n",
            "Image_nUmber :  24600\n",
            "Image_nUmber :  24700\n",
            "Image_nUmber :  24800\n",
            "Image_nUmber :  24900\n",
            "Image_nUmber :  25000\n",
            "Image_nUmber :  25100\n",
            "Image_nUmber :  25200\n",
            "Image_nUmber :  25300\n",
            "Image_nUmber :  25400\n",
            "Image_nUmber :  25500\n",
            "Image_nUmber :  25600\n",
            "Image_nUmber :  25700\n",
            "Image_nUmber :  25800\n",
            "Image_nUmber :  25900\n",
            "Image_nUmber :  26000\n",
            "Image_nUmber :  26100\n",
            "Image_nUmber :  26200\n",
            "Image_nUmber :  26300\n",
            "Image_nUmber :  26400\n",
            "Image_nUmber :  26500\n",
            "Image_nUmber :  26600\n",
            "Image_nUmber :  26700\n",
            "Image_nUmber :  26800\n",
            "Image_nUmber :  26900\n",
            "Image_nUmber :  27000\n",
            "Image_nUmber :  27100\n",
            "Image_nUmber :  27200\n",
            "Image_nUmber :  27300\n",
            "Image_nUmber :  27400\n",
            "Image_nUmber :  27500\n",
            "Image_nUmber :  27600\n",
            "Image_nUmber :  27700\n",
            "Image_nUmber :  27800\n",
            "Image_nUmber :  27900\n",
            "Image_nUmber :  28000\n",
            "Image_nUmber :  28100\n",
            "Image_nUmber :  28200\n",
            "Image_nUmber :  28300\n",
            "Image_nUmber :  28400\n",
            "Image_nUmber :  28500\n",
            "Image_nUmber :  28600\n",
            "Image_nUmber :  28700\n",
            "Image_nUmber :  28800\n",
            "Image_nUmber :  28900\n",
            "Image_nUmber :  29000\n",
            "Image_nUmber :  29100\n",
            "Image_nUmber :  29200\n",
            "Image_nUmber :  29300\n",
            "Image_nUmber :  29400\n",
            "Image_nUmber :  29500\n",
            "Image_nUmber :  29600\n",
            "Image_nUmber :  29700\n",
            "Image_nUmber :  29800\n",
            "Image_nUmber :  29900\n",
            "Image_nUmber :  30000\n",
            "Image_nUmber :  30100\n",
            "Image_nUmber :  30200\n",
            "Image_nUmber :  30300\n",
            "Image_nUmber :  30400\n",
            "Image_nUmber :  30500\n",
            "Image_nUmber :  30600\n",
            "Image_nUmber :  30700\n",
            "Image_nUmber :  30800\n",
            "Image_nUmber :  30900\n",
            "Image_nUmber :  31000\n",
            "Image_nUmber :  31100\n",
            "Image_nUmber :  31200\n",
            "Image_nUmber :  31300\n",
            "Image_nUmber :  31400\n",
            "Image_nUmber :  31500\n",
            "Image_nUmber :  31600\n",
            "Image_nUmber :  31700\n",
            "Image_nUmber :  31800\n",
            "Image_nUmber :  31900\n",
            "Image_nUmber :  32000\n",
            "Image_nUmber :  32100\n",
            "Image_nUmber :  32200\n",
            "Image_nUmber :  32300\n",
            "Image_nUmber :  32400\n",
            "Image_nUmber :  32500\n",
            "Image_nUmber :  32600\n",
            "Image_nUmber :  32700\n",
            "Image_nUmber :  32800\n",
            "Image_nUmber :  32900\n",
            "Image_nUmber :  33000\n",
            "Image_nUmber :  33100\n",
            "Image_nUmber :  33200\n",
            "Image_nUmber :  33300\n",
            "Image_nUmber :  33400\n",
            "Image_nUmber :  33500\n",
            "Image_nUmber :  33600\n",
            "Image_nUmber :  33700\n",
            "Image_nUmber :  33800\n",
            "Image_nUmber :  33900\n",
            "Image_nUmber :  34000\n",
            "Image_nUmber :  34100\n",
            "Image_nUmber :  34200\n",
            "Image_nUmber :  34300\n",
            "Image_nUmber :  34400\n",
            "Image_nUmber :  34500\n",
            "Image_nUmber :  34600\n",
            "Image_nUmber :  34700\n",
            "Image_nUmber :  34800\n",
            "Image_nUmber :  34900\n",
            "Image_nUmber :  35000\n",
            "Image_nUmber :  35100\n",
            "Image_nUmber :  35200\n",
            "Image_nUmber :  35300\n",
            "Image_nUmber :  35400\n",
            "Image_nUmber :  35500\n",
            "Image_nUmber :  35600\n",
            "Image_nUmber :  35700\n",
            "Image_nUmber :  35800\n",
            "Image_nUmber :  35900\n",
            "Image_nUmber :  36000\n",
            "Image_nUmber :  36100\n",
            "Image_nUmber :  36200\n",
            "Image_nUmber :  36300\n",
            "Image_nUmber :  36400\n",
            "Image_nUmber :  36500\n",
            "Image_nUmber :  36600\n",
            "Image_nUmber :  36700\n",
            "Image_nUmber :  36800\n",
            "Image_nUmber :  36900\n",
            "Image_nUmber :  37000\n",
            "Image_nUmber :  37100\n",
            "Image_nUmber :  37200\n",
            "Image_nUmber :  37300\n",
            "Image_nUmber :  37400\n",
            "Image_nUmber :  37500\n",
            "Image_nUmber :  37600\n",
            "Image_nUmber :  37700\n",
            "Image_nUmber :  37800\n",
            "Image_nUmber :  37900\n",
            "Image_nUmber :  38000\n",
            "Image_nUmber :  38100\n",
            "Image_nUmber :  38200\n",
            "Image_nUmber :  38300\n",
            "Image_nUmber :  38400\n",
            "Image_nUmber :  38500\n",
            "Image_nUmber :  38600\n",
            "Image_nUmber :  38700\n",
            "Image_nUmber :  38800\n",
            "Image_nUmber :  38900\n",
            "Image_nUmber :  39000\n",
            "Image_nUmber :  39100\n",
            "Image_nUmber :  39200\n",
            "Image_nUmber :  39300\n",
            "Image_nUmber :  39400\n",
            "Image_nUmber :  39500\n",
            "Image_nUmber :  39600\n",
            "Image_nUmber :  39700\n",
            "Image_nUmber :  39800\n",
            "Image_nUmber :  39900\n",
            "Image_nUmber :  40000\n",
            "Image_nUmber :  40100\n",
            "Image_nUmber :  40200\n",
            "Image_nUmber :  40300\n",
            "Image_nUmber :  40400\n",
            "Image_nUmber :  40500\n",
            "Image_nUmber :  40600\n",
            "Image_nUmber :  40700\n",
            "Image_nUmber :  40800\n",
            "Image_nUmber :  40900\n",
            "Image_nUmber :  41000\n",
            "Image_nUmber :  41100\n",
            "Image_nUmber :  41200\n",
            "Image_nUmber :  41300\n",
            "Image_nUmber :  41400\n",
            "Image_nUmber :  41500\n",
            "Image_nUmber :  41600\n",
            "Image_nUmber :  41700\n",
            "Image_nUmber :  41800\n",
            "Image_nUmber :  41900\n",
            "Image_nUmber :  42000\n",
            "Image_nUmber :  42100\n",
            "Image_nUmber :  42200\n",
            "Image_nUmber :  42300\n",
            "Image_nUmber :  42400\n",
            "Image_nUmber :  42500\n",
            "Image_nUmber :  42600\n",
            "Image_nUmber :  42700\n",
            "Image_nUmber :  42800\n",
            "Image_nUmber :  42900\n",
            "Image_nUmber :  43000\n",
            "Image_nUmber :  43100\n",
            "Image_nUmber :  43200\n",
            "Image_nUmber :  43300\n",
            "Image_nUmber :  43400\n",
            "Image_nUmber :  43500\n",
            "Image_nUmber :  43600\n",
            "Image_nUmber :  43700\n",
            "Image_nUmber :  43800\n",
            "Image_nUmber :  43900\n",
            "Image_nUmber :  44000\n",
            "Image_nUmber :  44100\n",
            "Image_nUmber :  44200\n",
            "Image_nUmber :  44300\n",
            "Image_nUmber :  44400\n",
            "Image_nUmber :  44500\n",
            "Image_nUmber :  44600\n",
            "Image_nUmber :  44700\n",
            "Image_nUmber :  44800\n",
            "Image_nUmber :  44900\n",
            "Image_nUmber :  45000\n",
            "Image_nUmber :  45100\n",
            "Image_nUmber :  45200\n",
            "Image_nUmber :  45300\n",
            "Image_nUmber :  45400\n",
            "Image_nUmber :  45500\n",
            "Image_nUmber :  45600\n",
            "Image_nUmber :  45700\n",
            "Image_nUmber :  45800\n",
            "Image_nUmber :  45900\n",
            "Image_nUmber :  46000\n",
            "Image_nUmber :  46100\n",
            "Image_nUmber :  46200\n",
            "Image_nUmber :  46300\n",
            "Image_nUmber :  46400\n",
            "Image_nUmber :  46500\n",
            "Image_nUmber :  46600\n",
            "Image_nUmber :  46700\n",
            "Image_nUmber :  46800\n",
            "Image_nUmber :  46900\n",
            "Image_nUmber :  47000\n",
            "Image_nUmber :  47100\n",
            "Image_nUmber :  47200\n",
            "Image_nUmber :  47300\n",
            "Image_nUmber :  47400\n",
            "Image_nUmber :  47500\n",
            "Image_nUmber :  47600\n",
            "Image_nUmber :  47700\n",
            "Image_nUmber :  47800\n",
            "Image_nUmber :  47900\n",
            "Image_nUmber :  48000\n",
            "Image_nUmber :  48100\n",
            "Image_nUmber :  48200\n",
            "Image_nUmber :  48300\n",
            "Image_nUmber :  48400\n",
            "Image_nUmber :  48500\n",
            "Image_nUmber :  48600\n",
            "Image_nUmber :  48700\n",
            "Image_nUmber :  48800\n",
            "Image_nUmber :  48900\n",
            "Image_nUmber :  49000\n",
            "Image_nUmber :  49100\n",
            "Image_nUmber :  49200\n",
            "Image_nUmber :  49300\n",
            "Image_nUmber :  49400\n",
            "Image_nUmber :  49500\n",
            "Image_nUmber :  49600\n",
            "Image_nUmber :  49700\n",
            "Image_nUmber :  49800\n",
            "Image_nUmber :  49900\n"
          ]
        }
      ]
    },
    {
      "cell_type": "code",
      "source": [
        "#Save dataset so we won't have to compute it again\n",
        "serialized_dataset_path = '/content/drive/MyDrive/CIFAR10/train.pkl'\n",
        "pickle.dump(train, open(\"df.pkl\", \"wb\"))\n",
        "\n",
        "pickle.dump(test, open(\"df_test.pkl\", \"wb\"))"
      ],
      "metadata": {
        "id": "3Kvkx9VJ6YWf"
      },
      "execution_count": null,
      "outputs": []
    },
    {
      "cell_type": "code",
      "source": [
        "!cp df.pkl gdrive/MyDrive/CIFAR10"
      ],
      "metadata": {
        "id": "efptYT2v7UbJ"
      },
      "execution_count": null,
      "outputs": []
    },
    {
      "cell_type": "code",
      "source": [
        "!cp df_test.pkl gdrive/MyDrive/CIFAR10"
      ],
      "metadata": {
        "id": "pLC4A2FQ7jNE"
      },
      "execution_count": null,
      "outputs": []
    },
    {
      "cell_type": "code",
      "source": [
        "#Convert to tensor form --> represents the features as one tensor 4D [index, 3, 32, 32]\n",
        "dataset_l  = torch.cat([torch.unsqueeze(tens, 0) for tens in dataset_l])\n",
        "dataset_Z = torch.Tensor.int(output_tensor)\n",
        "\n",
        "#Set up new dataset\n",
        "N_images = 40000\n",
        "train = data_utils.TensorDataset(dataset_l[: N_images], dataset_Z[: N_images])\n",
        "test = data_utils.TensorDataset(dataset_l[N_images:], dataset_Z[N_images: ])"
      ],
      "metadata": {
        "id": "Nsl-Jyt2kCbv"
      },
      "execution_count": null,
      "outputs": []
    },
    {
      "cell_type": "markdown",
      "source": [
        "## Load new dataset"
      ],
      "metadata": {
        "id": "ELWhTiQ8-WaU"
      }
    },
    {
      "cell_type": "code",
      "source": [
        "objects = []\n",
        "with (open(\"/content/gdrive/MyDrive/CIFAR10/df.pkl\", \"rb\")) as openfile:\n",
        "    while True:\n",
        "        try:\n",
        "            objects.append(pickle.load(openfile))\n",
        "        except EOFError:\n",
        "            break\n",
        "\n",
        "with (open(\"/content/gdrive/MyDrive/CIFAR10/df_test.pkl\", \"rb\")) as openfile:\n",
        "    while True:\n",
        "        try:\n",
        "            objects.append(pickle.load(openfile))\n",
        "        except EOFError:\n",
        "            break\n"
      ],
      "metadata": {
        "id": "u0Qnzs8--VxW"
      },
      "execution_count": null,
      "outputs": []
    },
    {
      "cell_type": "code",
      "source": [
        "train = objects[0]\n",
        "test = objects[1]"
      ],
      "metadata": {
        "id": "T06z8lNZ_QkY"
      },
      "execution_count": null,
      "outputs": []
    },
    {
      "cell_type": "markdown",
      "source": [
        "## Computation of $\\vec{w}$"
      ],
      "metadata": {
        "id": "EhmuNvwY2TLW"
      }
    },
    {
      "cell_type": "code",
      "source": [
        "#Store indeces as tensor\n",
        "\n",
        "position_tensor = torch.zeros([len(hist_obj[1][:-1]), len(hist_obj[2][:-1])] )\n",
        "for position, index in zip(positions, indeces):\n",
        "  position_tensor[position[0], position[1]] = index\n",
        "\n",
        "position_tensor = torch.Tensor.int(position_tensor)\n",
        "\n",
        "auxiliary_tensor = torch.tensor([i for i in range(Q)], requires_grad = False)\n",
        "auxiliary_tensor = torch.unsqueeze(auxiliary_tensor, 0)\n",
        "auxiliary_tensor = torch.unsqueeze(auxiliary_tensor, 0)\n",
        "auxiliary_tensor = torch.Tensor.repeat(auxiliary_tensor, [32, 32, 1])\n",
        "auxiliary_tensor = torch.unsqueeze(auxiliary_tensor, 0)\n",
        "auxiliary_tensor = torch.permute(auxiliary_tensor, [0,3,1,2])"
      ],
      "metadata": {
        "id": "msjCZnYqAGfh"
      },
      "execution_count": null,
      "outputs": []
    },
    {
      "cell_type": "code",
      "source": [
        "l = .5                                  # lambda\n",
        "p = np.ndarray.flatten(hist_obj[0])\n",
        "p = p[p > 0.]                           # p is a 1D array with the non-zero probabilities\n",
        "Q = len(p)\n",
        "\n",
        "w = 1 / ((1-l)*p + l/Q)\n",
        "w = w / np.dot(w , p)"
      ],
      "metadata": {
        "id": "f5wDYh1H1vxx"
      },
      "execution_count": null,
      "outputs": []
    },
    {
      "cell_type": "markdown",
      "source": [
        "## Define loss function\n",
        "\n",
        "$L_{cl} = - \\sum_{h,w, q} v(Z_{hw}) Z_{h,w,q}\\log(\\hat{Z}_{hwq})$, $v(Z_{hw}) = w_{q^*}$, where $q^*$ is the index of the corresponding bin. We encode the ground truth $Z_{h,w,q}$ using one-hot-encoding.\n",
        "\n",
        "*Reminder: Z has the shape of (1, h, w, q)*."
      ],
      "metadata": {
        "id": "E4FXecvx4uuO"
      }
    },
    {
      "cell_type": "markdown",
      "source": [
        "## Training (special loss)\n",
        "\n",
        "Potremmo salvare un'unica volta il dataset nella forma (ndati, 1, 32, 32). Per la loss dobbiamo fare una cross entropy tra i due"
      ],
      "metadata": {
        "id": "iDXfUaX0RvrG"
      }
    },
    {
      "cell_type": "code",
      "source": [
        "#Data loader\n",
        "batch_size = 200\n",
        "train_loader = DataLoader(train, batch_size=batch_size, shuffle=True)\n",
        "test_loader = DataLoader(test, batch_size=batch_size, shuffle=True)"
      ],
      "metadata": {
        "id": "ZFYhStjwSu7T"
      },
      "execution_count": null,
      "outputs": []
    },
    {
      "cell_type": "code",
      "source": [
        "w = torch.tensor(w)\n",
        "w = w.clone().detach()\n",
        "\n",
        "def mylog(tensor):\n",
        "  eps = 1e-50\n",
        "  new_tensor = torch.clone(tensor)\n",
        "  new_tensor[tensor <= 0.] = eps\n",
        "  return torch.log(new_tensor)"
      ],
      "metadata": {
        "id": "W5dkIrnY4pA9",
        "colab": {
          "base_uri": "https://localhost:8080/"
        },
        "outputId": "5c56eba1-ab3f-435d-c00e-168cad6a1cf7"
      },
      "execution_count": null,
      "outputs": [
        {
          "output_type": "stream",
          "name": "stderr",
          "text": [
            "<ipython-input-57-621382bdcf67>:1: UserWarning: To copy construct from a tensor, it is recommended to use sourceTensor.clone().detach() or sourceTensor.clone().detach().requires_grad_(True), rather than torch.tensor(sourceTensor).\n",
            "  w = torch.tensor(w)\n"
          ]
        }
      ]
    },
    {
      "cell_type": "code",
      "source": [
        "class network_model(nn.Module):\n",
        "  def __init__(self):\n",
        "    super(network_model, self).__init__()\n",
        "\n",
        "    resnet = models.resnet18(weights = \"IMAGENET1K_V1\")\n",
        "    self.resnet_base = nn.Sequential(*list(resnet.children())[0:6]) #first 6 layers of resnet, which end with 128 channels\n",
        "\n",
        "    for param in self.resnet_base.parameters():\n",
        "      param.requires_grad = False\n",
        "\n",
        "\n",
        "    # define our layers on top of resnet\n",
        "    self.cnn_next = nn.Sequential(\n",
        "      nn.Conv2d(128, 64, kernel_size=3, stride=1, padding=1),\n",
        "      nn.BatchNorm2d(64),\n",
        "      nn.ReLU(),\n",
        "      nn.Upsample(scale_factor=4),\n",
        "      nn.Conv2d(64, 64, kernel_size=3, stride=1, padding=1),\n",
        "      nn.BatchNorm2d(64),\n",
        "      nn.ReLU(),\n",
        "      nn.Upsample(scale_factor=2),\n",
        "      nn.Conv2d(64, Q, kernel_size=3, stride=1, padding=1),\n",
        "      nn.BatchNorm2d(Q),\n",
        "      nn.ReLU(),\n",
        "    )\n",
        "\n",
        "  def forward(self, input):\n",
        "    y = self.resnet_base(input) #first go through resnet\n",
        "    z = self.cnn_next(y)        #then go through our layers\n",
        "    return z"
      ],
      "metadata": {
        "id": "Wtl4vQtURvR_"
      },
      "execution_count": null,
      "outputs": []
    },
    {
      "cell_type": "code",
      "source": [
        "class CustomLoss(nn.Module):\n",
        "    def __init__(self):\n",
        "        super(CustomLoss, self).__init__()\n",
        "\n",
        "    def forward(self, Z_pred, Z_truth):\n",
        "      nData = Z_pred.shape[0]\n",
        "      v = w[Z_truth].view(nData, 32, 32)\n",
        "\n",
        "      zeros = torch.zeros(nData, Q, 32, 32)\n",
        "      one_hot = zeros.scatter(1, Z_truth.type(torch.int64), v)\n",
        "\n",
        "      l = -torch.sum(v*torch.sum(one_hot * mylog(Z_pred), dim = 1), [0,1,2])\n",
        "\n",
        "      return l"
      ],
      "metadata": {
        "id": "WY73m_IoR0lM"
      },
      "execution_count": null,
      "outputs": []
    },
    {
      "cell_type": "code",
      "source": [
        "network = network_model() #CNN\n",
        "loss = nn.CrossEntropyLoss()       #We begin with a simple MSE loss function\n",
        "optim = torch.optim.Adam(network.parameters(), lr=1e-4, weight_decay=0.0)"
      ],
      "metadata": {
        "id": "RToPVW0ESTuR"
      },
      "execution_count": null,
      "outputs": []
    },
    {
      "cell_type": "code",
      "source": [
        "losses_train = []\n",
        "losses_val = []\n",
        "\n",
        "epochs = 50\n",
        "patience = 8 #how many epochs of non decreasing validation we accept\n",
        "min_val = 0 #minimum validation loss (initialized to a meaningless value - we will update it at the first epoch)\n",
        "softmax = nn.Softmax(dim = 1)\n",
        "\n",
        "with torch.autograd.set_detect_anomaly(False):\n",
        "  for epoch in range(epochs):\n",
        "    print(\"Epoch \", epoch)\n",
        "    network.train() #Set it up for training\n",
        "    i = 0\n",
        "    ls = []\n",
        "    for features, labels in train_loader:\n",
        "      predictions = network(features)\n",
        "      predictions_sm = softmax(predictions)\n",
        "\n",
        "      v = w[labels].view(batch_size, 32, 32)\n",
        "      zeros = torch.zeros(batch_size, Q, 32, 32, dtype = torch.float64)\n",
        "\n",
        "      one_hot = zeros.scatter(dim = 1, index = labels.type(torch.int64), src = torch.unsqueeze(v, 1))\n",
        "      L = loss(predictions_sm, one_hot)\n",
        "      ls.append(L.item())\n",
        "\n",
        "      optim.zero_grad()\n",
        "      L.backward()\n",
        "      optim.step()\n",
        "\n",
        "      if i%20 == 0:\n",
        "        print(\"Loss at iteration \",  i , \" is \", L.item())\n",
        "      i += 1\n",
        "    losses_train.append(mean(ls))\n",
        "\n",
        "    #Validation loss\n",
        "    network.eval()\n",
        "    with torch.no_grad():\n",
        "      val_batches = []\n",
        "      for features, labels in test_loader:\n",
        "        prediction_val = network(features)\n",
        "        prediction_val_sm = softmax(prediction_val.clone())\n",
        "\n",
        "        v = w[labels].view(batch_size, 32, 32)\n",
        "        zeros = torch.zeros(batch_size, Q, 32, 32, dtype = torch.float64)\n",
        "\n",
        "        one_hot = zeros.scatter(dim = 1, index = labels.type(torch.int64), src = torch.unsqueeze(v, 1))\n",
        "\n",
        "        val_loss = loss(prediction_val_sm, one_hot)\n",
        "        val_batches.append(val_loss.item())\n",
        "      print(\"At epoch \", epoch, \" validation loss \", mean(val_batches))\n",
        "      losses_val.append(mean(val_batches))\n",
        "\n",
        "    #Early stopping\n",
        "    if epoch == 1:\n",
        "      min_val = mean(val_batches)\n",
        "\n",
        "    if mean(val_batches) < min_val:\n",
        "      min_val = mean(val_batches)\n",
        "\n",
        "    #Early stopping: break if no new minimum was reached in the last *patience* epochs\n",
        "\n",
        "    if epoch >= patience:\n",
        "        condition = 0\n",
        "        for index in range(patience):\n",
        "          if losses_val[-(index + 1)] > min_val:\n",
        "            condition += 1\n",
        "        if condition == patience:\n",
        "          print(\"Early stopping!\")\n",
        "          break"
      ],
      "metadata": {
        "colab": {
          "base_uri": "https://localhost:8080/",
          "height": 600
        },
        "id": "nlGfqfWHSc7-",
        "outputId": "9769ee3b-bd58-47ad-eec0-0019ff4b4547"
      },
      "execution_count": null,
      "outputs": [
        {
          "output_type": "stream",
          "name": "stdout",
          "text": [
            "Epoch  0\n",
            "Loss at iteration  0  is  6.359157626721423e-08\n",
            "Loss at iteration  20  is  6.784163816128598e-08\n",
            "Loss at iteration  40  is  7.725445569654336e-08\n",
            "Loss at iteration  60  is  8.366441493190816e-08\n",
            "Loss at iteration  80  is  6.278760866897153e-08\n",
            "Loss at iteration  100  is  2.6166216673177865e-07\n",
            "Loss at iteration  120  is  1.3008213315677793e-07\n",
            "Loss at iteration  140  is  1.9076777853611785e-07\n",
            "Loss at iteration  160  is  6.943666216542439e-08\n",
            "Loss at iteration  180  is  6.420888368150975e-08\n"
          ]
        },
        {
          "output_type": "error",
          "ename": "RuntimeError",
          "evalue": "only batches of spatial targets supported (3D tensors) but got targets of dimension: 4",
          "traceback": [
            "\u001b[0;31m---------------------------------------------------------------------------\u001b[0m",
            "\u001b[0;31mRuntimeError\u001b[0m                              Traceback (most recent call last)",
            "\u001b[0;32m<ipython-input-62-4d11ff308276>\u001b[0m in \u001b[0;36m<cell line: 9>\u001b[0;34m()\u001b[0m\n\u001b[1;32m     41\u001b[0m         \u001b[0mprediction_val_sm\u001b[0m \u001b[0;34m=\u001b[0m \u001b[0msoftmax\u001b[0m\u001b[0;34m(\u001b[0m\u001b[0mprediction_val\u001b[0m\u001b[0;34m.\u001b[0m\u001b[0mclone\u001b[0m\u001b[0;34m(\u001b[0m\u001b[0;34m)\u001b[0m\u001b[0;34m)\u001b[0m\u001b[0;34m\u001b[0m\u001b[0;34m\u001b[0m\u001b[0m\n\u001b[1;32m     42\u001b[0m \u001b[0;34m\u001b[0m\u001b[0m\n\u001b[0;32m---> 43\u001b[0;31m         \u001b[0mval_loss\u001b[0m \u001b[0;34m=\u001b[0m \u001b[0mloss\u001b[0m\u001b[0;34m(\u001b[0m\u001b[0mprediction_val_sm\u001b[0m\u001b[0;34m,\u001b[0m \u001b[0mlabels\u001b[0m\u001b[0;34m)\u001b[0m\u001b[0;34m\u001b[0m\u001b[0;34m\u001b[0m\u001b[0m\n\u001b[0m\u001b[1;32m     44\u001b[0m         \u001b[0mval_batches\u001b[0m\u001b[0;34m.\u001b[0m\u001b[0mappend\u001b[0m\u001b[0;34m(\u001b[0m\u001b[0mval_loss\u001b[0m\u001b[0;34m.\u001b[0m\u001b[0mitem\u001b[0m\u001b[0;34m(\u001b[0m\u001b[0;34m)\u001b[0m\u001b[0;34m)\u001b[0m\u001b[0;34m\u001b[0m\u001b[0;34m\u001b[0m\u001b[0m\n\u001b[1;32m     45\u001b[0m       \u001b[0mprint\u001b[0m\u001b[0;34m(\u001b[0m\u001b[0;34m\"At epoch \"\u001b[0m\u001b[0;34m,\u001b[0m \u001b[0mepoch\u001b[0m\u001b[0;34m,\u001b[0m \u001b[0;34m\" validation loss \"\u001b[0m\u001b[0;34m,\u001b[0m \u001b[0mmean\u001b[0m\u001b[0;34m(\u001b[0m\u001b[0mval_batches\u001b[0m\u001b[0;34m)\u001b[0m\u001b[0;34m)\u001b[0m\u001b[0;34m\u001b[0m\u001b[0;34m\u001b[0m\u001b[0m\n",
            "\u001b[0;32m/usr/local/lib/python3.10/dist-packages/torch/nn/modules/module.py\u001b[0m in \u001b[0;36m_wrapped_call_impl\u001b[0;34m(self, *args, **kwargs)\u001b[0m\n\u001b[1;32m   1516\u001b[0m             \u001b[0;32mreturn\u001b[0m \u001b[0mself\u001b[0m\u001b[0;34m.\u001b[0m\u001b[0m_compiled_call_impl\u001b[0m\u001b[0;34m(\u001b[0m\u001b[0;34m*\u001b[0m\u001b[0margs\u001b[0m\u001b[0;34m,\u001b[0m \u001b[0;34m**\u001b[0m\u001b[0mkwargs\u001b[0m\u001b[0;34m)\u001b[0m  \u001b[0;31m# type: ignore[misc]\u001b[0m\u001b[0;34m\u001b[0m\u001b[0;34m\u001b[0m\u001b[0m\n\u001b[1;32m   1517\u001b[0m         \u001b[0;32melse\u001b[0m\u001b[0;34m:\u001b[0m\u001b[0;34m\u001b[0m\u001b[0;34m\u001b[0m\u001b[0m\n\u001b[0;32m-> 1518\u001b[0;31m             \u001b[0;32mreturn\u001b[0m \u001b[0mself\u001b[0m\u001b[0;34m.\u001b[0m\u001b[0m_call_impl\u001b[0m\u001b[0;34m(\u001b[0m\u001b[0;34m*\u001b[0m\u001b[0margs\u001b[0m\u001b[0;34m,\u001b[0m \u001b[0;34m**\u001b[0m\u001b[0mkwargs\u001b[0m\u001b[0;34m)\u001b[0m\u001b[0;34m\u001b[0m\u001b[0;34m\u001b[0m\u001b[0m\n\u001b[0m\u001b[1;32m   1519\u001b[0m \u001b[0;34m\u001b[0m\u001b[0m\n\u001b[1;32m   1520\u001b[0m     \u001b[0;32mdef\u001b[0m \u001b[0m_call_impl\u001b[0m\u001b[0;34m(\u001b[0m\u001b[0mself\u001b[0m\u001b[0;34m,\u001b[0m \u001b[0;34m*\u001b[0m\u001b[0margs\u001b[0m\u001b[0;34m,\u001b[0m \u001b[0;34m**\u001b[0m\u001b[0mkwargs\u001b[0m\u001b[0;34m)\u001b[0m\u001b[0;34m:\u001b[0m\u001b[0;34m\u001b[0m\u001b[0;34m\u001b[0m\u001b[0m\n",
            "\u001b[0;32m/usr/local/lib/python3.10/dist-packages/torch/nn/modules/module.py\u001b[0m in \u001b[0;36m_call_impl\u001b[0;34m(self, *args, **kwargs)\u001b[0m\n\u001b[1;32m   1525\u001b[0m                 \u001b[0;32mor\u001b[0m \u001b[0m_global_backward_pre_hooks\u001b[0m \u001b[0;32mor\u001b[0m \u001b[0m_global_backward_hooks\u001b[0m\u001b[0;34m\u001b[0m\u001b[0;34m\u001b[0m\u001b[0m\n\u001b[1;32m   1526\u001b[0m                 or _global_forward_hooks or _global_forward_pre_hooks):\n\u001b[0;32m-> 1527\u001b[0;31m             \u001b[0;32mreturn\u001b[0m \u001b[0mforward_call\u001b[0m\u001b[0;34m(\u001b[0m\u001b[0;34m*\u001b[0m\u001b[0margs\u001b[0m\u001b[0;34m,\u001b[0m \u001b[0;34m**\u001b[0m\u001b[0mkwargs\u001b[0m\u001b[0;34m)\u001b[0m\u001b[0;34m\u001b[0m\u001b[0;34m\u001b[0m\u001b[0m\n\u001b[0m\u001b[1;32m   1528\u001b[0m \u001b[0;34m\u001b[0m\u001b[0m\n\u001b[1;32m   1529\u001b[0m         \u001b[0;32mtry\u001b[0m\u001b[0;34m:\u001b[0m\u001b[0;34m\u001b[0m\u001b[0;34m\u001b[0m\u001b[0m\n",
            "\u001b[0;32m/usr/local/lib/python3.10/dist-packages/torch/nn/modules/loss.py\u001b[0m in \u001b[0;36mforward\u001b[0;34m(self, input, target)\u001b[0m\n\u001b[1;32m   1177\u001b[0m \u001b[0;34m\u001b[0m\u001b[0m\n\u001b[1;32m   1178\u001b[0m     \u001b[0;32mdef\u001b[0m \u001b[0mforward\u001b[0m\u001b[0;34m(\u001b[0m\u001b[0mself\u001b[0m\u001b[0;34m,\u001b[0m \u001b[0minput\u001b[0m\u001b[0;34m:\u001b[0m \u001b[0mTensor\u001b[0m\u001b[0;34m,\u001b[0m \u001b[0mtarget\u001b[0m\u001b[0;34m:\u001b[0m \u001b[0mTensor\u001b[0m\u001b[0;34m)\u001b[0m \u001b[0;34m->\u001b[0m \u001b[0mTensor\u001b[0m\u001b[0;34m:\u001b[0m\u001b[0;34m\u001b[0m\u001b[0;34m\u001b[0m\u001b[0m\n\u001b[0;32m-> 1179\u001b[0;31m         return F.cross_entropy(input, target, weight=self.weight,\n\u001b[0m\u001b[1;32m   1180\u001b[0m                                \u001b[0mignore_index\u001b[0m\u001b[0;34m=\u001b[0m\u001b[0mself\u001b[0m\u001b[0;34m.\u001b[0m\u001b[0mignore_index\u001b[0m\u001b[0;34m,\u001b[0m \u001b[0mreduction\u001b[0m\u001b[0;34m=\u001b[0m\u001b[0mself\u001b[0m\u001b[0;34m.\u001b[0m\u001b[0mreduction\u001b[0m\u001b[0;34m,\u001b[0m\u001b[0;34m\u001b[0m\u001b[0;34m\u001b[0m\u001b[0m\n\u001b[1;32m   1181\u001b[0m                                label_smoothing=self.label_smoothing)\n",
            "\u001b[0;32m/usr/local/lib/python3.10/dist-packages/torch/nn/functional.py\u001b[0m in \u001b[0;36mcross_entropy\u001b[0;34m(input, target, weight, size_average, ignore_index, reduce, reduction, label_smoothing)\u001b[0m\n\u001b[1;32m   3051\u001b[0m     \u001b[0;32mif\u001b[0m \u001b[0msize_average\u001b[0m \u001b[0;32mis\u001b[0m \u001b[0;32mnot\u001b[0m \u001b[0;32mNone\u001b[0m \u001b[0;32mor\u001b[0m \u001b[0mreduce\u001b[0m \u001b[0;32mis\u001b[0m \u001b[0;32mnot\u001b[0m \u001b[0;32mNone\u001b[0m\u001b[0;34m:\u001b[0m\u001b[0;34m\u001b[0m\u001b[0;34m\u001b[0m\u001b[0m\n\u001b[1;32m   3052\u001b[0m         \u001b[0mreduction\u001b[0m \u001b[0;34m=\u001b[0m \u001b[0m_Reduction\u001b[0m\u001b[0;34m.\u001b[0m\u001b[0mlegacy_get_string\u001b[0m\u001b[0;34m(\u001b[0m\u001b[0msize_average\u001b[0m\u001b[0;34m,\u001b[0m \u001b[0mreduce\u001b[0m\u001b[0;34m)\u001b[0m\u001b[0;34m\u001b[0m\u001b[0;34m\u001b[0m\u001b[0m\n\u001b[0;32m-> 3053\u001b[0;31m     \u001b[0;32mreturn\u001b[0m \u001b[0mtorch\u001b[0m\u001b[0;34m.\u001b[0m\u001b[0m_C\u001b[0m\u001b[0;34m.\u001b[0m\u001b[0m_nn\u001b[0m\u001b[0;34m.\u001b[0m\u001b[0mcross_entropy_loss\u001b[0m\u001b[0;34m(\u001b[0m\u001b[0minput\u001b[0m\u001b[0;34m,\u001b[0m \u001b[0mtarget\u001b[0m\u001b[0;34m,\u001b[0m \u001b[0mweight\u001b[0m\u001b[0;34m,\u001b[0m \u001b[0m_Reduction\u001b[0m\u001b[0;34m.\u001b[0m\u001b[0mget_enum\u001b[0m\u001b[0;34m(\u001b[0m\u001b[0mreduction\u001b[0m\u001b[0;34m)\u001b[0m\u001b[0;34m,\u001b[0m \u001b[0mignore_index\u001b[0m\u001b[0;34m,\u001b[0m \u001b[0mlabel_smoothing\u001b[0m\u001b[0;34m)\u001b[0m\u001b[0;34m\u001b[0m\u001b[0;34m\u001b[0m\u001b[0m\n\u001b[0m\u001b[1;32m   3054\u001b[0m \u001b[0;34m\u001b[0m\u001b[0m\n\u001b[1;32m   3055\u001b[0m \u001b[0;34m\u001b[0m\u001b[0m\n",
            "\u001b[0;31mRuntimeError\u001b[0m: only batches of spatial targets supported (3D tensors) but got targets of dimension: 4"
          ]
        }
      ]
    },
    {
      "cell_type": "code",
      "source": [],
      "metadata": {
        "id": "CRmHNcDT8edC"
      },
      "execution_count": null,
      "outputs": []
    }
  ]
}